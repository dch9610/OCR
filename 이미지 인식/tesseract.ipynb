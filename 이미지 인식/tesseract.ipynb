{
 "cells": [
  {
   "cell_type": "markdown",
   "metadata": {},
   "source": [
    "## cmd 창을 이용하여 데이터 출력\n",
    "- window 버전 다운로드 : https://github.com/UB-Mannheim/tesseract/wiki\n",
    "- 환경변수 path 설정 : Tesseract-OCR이 설치된 폴더를 추가\n",
    "- Cmd 테스트\n",
    "    - tesseract [이미지 경로] stdout -l kor+eng : 한글과 영문 인식"
   ]
  },
  {
   "cell_type": "code",
   "execution_count": 9,
   "metadata": {
    "scrolled": true
   },
   "outputs": [],
   "source": [
    "from PIL import Image\n",
    "from pytesseract import *\n",
    "#pytesseract.pytesseract.tesseract_cmd = r'C:\\Program Files\\Tesseract-OCR\\tesseract.exe'\n",
    "\n",
    "filename = \"test1.jpg\"\n",
    "image = Image.open(filename)\n",
    "text = pytesseract.image_to_string(image, lang='kor+eng')\n",
    "\n",
    "with open(\"sample.txt\", \"w\") as f:\n",
    "    f.write(text)"
   ]
  },
  {
   "cell_type": "code",
   "execution_count": null,
   "metadata": {},
   "outputs": [],
   "source": []
  }
 ],
 "metadata": {
  "kernelspec": {
   "display_name": "Python 3",
   "language": "python",
   "name": "python3"
  },
  "language_info": {
   "codemirror_mode": {
    "name": "ipython",
    "version": 3
   },
   "file_extension": ".py",
   "mimetype": "text/x-python",
   "name": "python",
   "nbconvert_exporter": "python",
   "pygments_lexer": "ipython3",
   "version": "3.8.5"
  }
 },
 "nbformat": 4,
 "nbformat_minor": 4
}
